{
 "nbformat": 4,
 "nbformat_minor": 2,
 "metadata": {
  "language_info": {
   "name": "python",
   "codemirror_mode": {
    "name": "ipython",
    "version": 3
   },
   "version": "3.7.5-final"
  },
  "orig_nbformat": 2,
  "file_extension": ".py",
  "mimetype": "text/x-python",
  "name": "python",
  "npconvert_exporter": "python",
  "pygments_lexer": "ipython3",
  "version": 3,
  "kernelspec": {
   "name": "python37564bit8e9f53d9414141038b9b63079feb92b9",
   "display_name": "Python 3.7.5 64-bit"
  }
 },
 "cells": [
  {
   "cell_type": "code",
   "execution_count": 3,
   "metadata": {},
   "outputs": [],
   "source": [
    "import pandas as pd, numpy as np"
   ]
  },
  {
   "cell_type": "code",
   "execution_count": 4,
   "metadata": {},
   "outputs": [
    {
     "data": {
      "text/html": "<div>\n<style scoped>\n    .dataframe tbody tr th:only-of-type {\n        vertical-align: middle;\n    }\n\n    .dataframe tbody tr th {\n        vertical-align: top;\n    }\n\n    .dataframe thead th {\n        text-align: right;\n    }\n</style>\n<table border=\"1\" class=\"dataframe\">\n  <thead>\n    <tr style=\"text-align: right;\">\n      <th></th>\n      <th>layer_1</th>\n      <th>layer_2</th>\n      <th>layer_3</th>\n      <th>layer_4</th>\n      <th>0</th>\n      <th>1</th>\n      <th>2</th>\n      <th>3</th>\n      <th>4</th>\n      <th>5</th>\n      <th>...</th>\n      <th>216</th>\n      <th>217</th>\n      <th>218</th>\n      <th>219</th>\n      <th>220</th>\n      <th>221</th>\n      <th>222</th>\n      <th>223</th>\n      <th>224</th>\n      <th>225</th>\n    </tr>\n  </thead>\n  <tbody>\n    <tr>\n      <th>0</th>\n      <td>10</td>\n      <td>10</td>\n      <td>10</td>\n      <td>10</td>\n      <td>0.254551</td>\n      <td>0.258823</td>\n      <td>0.254659</td>\n      <td>0.252085</td>\n      <td>0.247678</td>\n      <td>0.253614</td>\n      <td>...</td>\n      <td>0.354750</td>\n      <td>0.369223</td>\n      <td>0.388184</td>\n      <td>0.408496</td>\n      <td>0.414564</td>\n      <td>0.429403</td>\n      <td>0.419225</td>\n      <td>0.443250</td>\n      <td>0.433414</td>\n      <td>0.465502</td>\n    </tr>\n    <tr>\n      <th>1</th>\n      <td>10</td>\n      <td>10</td>\n      <td>10</td>\n      <td>20</td>\n      <td>0.205062</td>\n      <td>0.225544</td>\n      <td>0.217758</td>\n      <td>0.202169</td>\n      <td>0.199633</td>\n      <td>0.207380</td>\n      <td>...</td>\n      <td>0.557203</td>\n      <td>0.573656</td>\n      <td>0.587998</td>\n      <td>0.612754</td>\n      <td>0.627825</td>\n      <td>0.633393</td>\n      <td>0.637706</td>\n      <td>0.625981</td>\n      <td>0.653231</td>\n      <td>0.637853</td>\n    </tr>\n    <tr>\n      <th>2</th>\n      <td>10</td>\n      <td>10</td>\n      <td>10</td>\n      <td>30</td>\n      <td>0.189196</td>\n      <td>0.165869</td>\n      <td>0.177655</td>\n      <td>0.156822</td>\n      <td>0.175094</td>\n      <td>0.177755</td>\n      <td>...</td>\n      <td>0.699864</td>\n      <td>0.708688</td>\n      <td>0.721982</td>\n      <td>0.713464</td>\n      <td>0.743030</td>\n      <td>0.741709</td>\n      <td>0.747743</td>\n      <td>0.746037</td>\n      <td>0.737356</td>\n      <td>0.750391</td>\n    </tr>\n    <tr>\n      <th>3</th>\n      <td>10</td>\n      <td>10</td>\n      <td>10</td>\n      <td>40</td>\n      <td>0.131003</td>\n      <td>0.120076</td>\n      <td>0.138975</td>\n      <td>0.117931</td>\n      <td>0.130566</td>\n      <td>0.131262</td>\n      <td>...</td>\n      <td>0.764786</td>\n      <td>0.763788</td>\n      <td>0.770017</td>\n      <td>0.787571</td>\n      <td>0.778866</td>\n      <td>0.776969</td>\n      <td>0.774712</td>\n      <td>0.801526</td>\n      <td>0.805305</td>\n      <td>0.784057</td>\n    </tr>\n    <tr>\n      <th>4</th>\n      <td>10</td>\n      <td>10</td>\n      <td>10</td>\n      <td>50</td>\n      <td>0.091033</td>\n      <td>0.086893</td>\n      <td>0.108125</td>\n      <td>0.080405</td>\n      <td>0.105917</td>\n      <td>0.077083</td>\n      <td>...</td>\n      <td>0.786677</td>\n      <td>0.802271</td>\n      <td>0.806557</td>\n      <td>0.799614</td>\n      <td>0.789333</td>\n      <td>0.804087</td>\n      <td>0.787763</td>\n      <td>0.794948</td>\n      <td>0.819105</td>\n      <td>0.801781</td>\n    </tr>\n  </tbody>\n</table>\n<p>5 rows × 230 columns</p>\n</div>",
      "text/plain": "   layer_1  layer_2  layer_3  layer_4         0         1         2         3  \\\n0       10       10       10       10  0.254551  0.258823  0.254659  0.252085   \n1       10       10       10       20  0.205062  0.225544  0.217758  0.202169   \n2       10       10       10       30  0.189196  0.165869  0.177655  0.156822   \n3       10       10       10       40  0.131003  0.120076  0.138975  0.117931   \n4       10       10       10       50  0.091033  0.086893  0.108125  0.080405   \n\n          4         5  ...       216       217       218       219       220  \\\n0  0.247678  0.253614  ...  0.354750  0.369223  0.388184  0.408496  0.414564   \n1  0.199633  0.207380  ...  0.557203  0.573656  0.587998  0.612754  0.627825   \n2  0.175094  0.177755  ...  0.699864  0.708688  0.721982  0.713464  0.743030   \n3  0.130566  0.131262  ...  0.764786  0.763788  0.770017  0.787571  0.778866   \n4  0.105917  0.077083  ...  0.786677  0.802271  0.806557  0.799614  0.789333   \n\n        221       222       223       224       225  \n0  0.429403  0.419225  0.443250  0.433414  0.465502  \n1  0.633393  0.637706  0.625981  0.653231  0.637853  \n2  0.741709  0.747743  0.746037  0.737356  0.750391  \n3  0.776969  0.774712  0.801526  0.805305  0.784057  \n4  0.804087  0.787763  0.794948  0.819105  0.801781  \n\n[5 rows x 230 columns]"
     },
     "execution_count": 4,
     "metadata": {},
     "output_type": "execute_result"
    }
   ],
   "source": [
    "tr = pd.read_csv(\"train.csv\")\n",
    "tr.head()"
   ]
  },
  {
   "cell_type": "code",
   "execution_count": 5,
   "metadata": {},
   "outputs": [
    {
     "data": {
      "text/plain": "layer_1      int64\nlayer_2      int64\nlayer_3      int64\nlayer_4      int64\n0          float64\n            ...   \n221        float64\n222        float64\n223        float64\n224        float64\n225        float64\nLength: 230, dtype: object"
     },
     "execution_count": 5,
     "metadata": {},
     "output_type": "execute_result"
    }
   ],
   "source": [
    "tr.dtypes"
   ]
  },
  {
   "cell_type": "code",
   "execution_count": 7,
   "metadata": {},
   "outputs": [
    {
     "name": "stdout",
     "output_type": "stream",
     "text": "0.2545514400000000176937930973508628085255622863769531250000000000\n"
    }
   ],
   "source": [
    "print(\"{:.64f}\".format(tr.iloc[0,4]))"
   ]
  },
  {
   "cell_type": "code",
   "execution_count": 8,
   "metadata": {},
   "outputs": [
    {
     "name": "stdout",
     "output_type": "stream",
     "text": "0.2050624500000000072219563662656582891941070556640625000000000000\n"
    }
   ],
   "source": [
    "print(\"{:.64f}\".format(tr.iloc[1,4]))"
   ]
  },
  {
   "cell_type": "code",
   "execution_count": 10,
   "metadata": {},
   "outputs": [
    {
     "data": {
      "text/html": "<div>\n<style scoped>\n    .dataframe tbody tr th:only-of-type {\n        vertical-align: middle;\n    }\n\n    .dataframe tbody tr th {\n        vertical-align: top;\n    }\n\n    .dataframe thead th {\n        text-align: right;\n    }\n</style>\n<table border=\"1\" class=\"dataframe\">\n  <thead>\n    <tr style=\"text-align: right;\">\n      <th></th>\n      <th>layer_1</th>\n      <th>layer_2</th>\n      <th>layer_3</th>\n      <th>layer_4</th>\n      <th>0</th>\n      <th>1</th>\n      <th>2</th>\n      <th>3</th>\n      <th>4</th>\n      <th>5</th>\n      <th>...</th>\n      <th>216</th>\n      <th>217</th>\n      <th>218</th>\n      <th>219</th>\n      <th>220</th>\n      <th>221</th>\n      <th>222</th>\n      <th>223</th>\n      <th>224</th>\n      <th>225</th>\n    </tr>\n  </thead>\n  <tbody>\n    <tr>\n      <th>count</th>\n      <td>810000.000000</td>\n      <td>810000.000000</td>\n      <td>810000.000000</td>\n      <td>810000.000000</td>\n      <td>810000.000000</td>\n      <td>810000.000000</td>\n      <td>810000.000000</td>\n      <td>810000.000000</td>\n      <td>810000.000000</td>\n      <td>810000.000000</td>\n      <td>...</td>\n      <td>810000.000000</td>\n      <td>810000.000000</td>\n      <td>810000.000000</td>\n      <td>810000.000000</td>\n      <td>810000.000000</td>\n      <td>810000.000000</td>\n      <td>810000.000000</td>\n      <td>810000.000000</td>\n      <td>810000.000000</td>\n      <td>810000.000000</td>\n    </tr>\n    <tr>\n      <th>mean</th>\n      <td>155.000000</td>\n      <td>155.000000</td>\n      <td>155.000000</td>\n      <td>155.000000</td>\n      <td>0.292653</td>\n      <td>0.292893</td>\n      <td>0.293125</td>\n      <td>0.293363</td>\n      <td>0.293666</td>\n      <td>0.293994</td>\n      <td>...</td>\n      <td>0.600336</td>\n      <td>0.606206</td>\n      <td>0.612238</td>\n      <td>0.618456</td>\n      <td>0.623942</td>\n      <td>0.625395</td>\n      <td>0.627100</td>\n      <td>0.628997</td>\n      <td>0.631166</td>\n      <td>0.633594</td>\n    </tr>\n    <tr>\n      <th>std</th>\n      <td>86.554468</td>\n      <td>86.554468</td>\n      <td>86.554468</td>\n      <td>86.554468</td>\n      <td>0.181642</td>\n      <td>0.181857</td>\n      <td>0.182055</td>\n      <td>0.182197</td>\n      <td>0.182361</td>\n      <td>0.182529</td>\n      <td>...</td>\n      <td>0.199727</td>\n      <td>0.198644</td>\n      <td>0.197473</td>\n      <td>0.196177</td>\n      <td>0.195028</td>\n      <td>0.194909</td>\n      <td>0.194730</td>\n      <td>0.194493</td>\n      <td>0.194146</td>\n      <td>0.193725</td>\n    </tr>\n    <tr>\n      <th>min</th>\n      <td>10.000000</td>\n      <td>10.000000</td>\n      <td>10.000000</td>\n      <td>10.000000</td>\n      <td>-0.014902</td>\n      <td>-0.014798</td>\n      <td>-0.014897</td>\n      <td>-0.014709</td>\n      <td>-0.014903</td>\n      <td>-0.014662</td>\n      <td>...</td>\n      <td>-0.011992</td>\n      <td>-0.008661</td>\n      <td>-0.011430</td>\n      <td>-0.009827</td>\n      <td>-0.007632</td>\n      <td>-0.007411</td>\n      <td>-0.007073</td>\n      <td>-0.007101</td>\n      <td>-0.005519</td>\n      <td>-0.006074</td>\n    </tr>\n    <tr>\n      <th>25%</th>\n      <td>80.000000</td>\n      <td>80.000000</td>\n      <td>80.000000</td>\n      <td>80.000000</td>\n      <td>0.135139</td>\n      <td>0.135180</td>\n      <td>0.135258</td>\n      <td>0.135478</td>\n      <td>0.135585</td>\n      <td>0.135705</td>\n      <td>...</td>\n      <td>0.469345</td>\n      <td>0.476970</td>\n      <td>0.484727</td>\n      <td>0.492739</td>\n      <td>0.500232</td>\n      <td>0.501650</td>\n      <td>0.503811</td>\n      <td>0.506252</td>\n      <td>0.509036</td>\n      <td>0.512067</td>\n    </tr>\n    <tr>\n      <th>50%</th>\n      <td>155.000000</td>\n      <td>155.000000</td>\n      <td>155.000000</td>\n      <td>155.000000</td>\n      <td>0.286510</td>\n      <td>0.286874</td>\n      <td>0.287194</td>\n      <td>0.287553</td>\n      <td>0.287830</td>\n      <td>0.288151</td>\n      <td>...</td>\n      <td>0.643685</td>\n      <td>0.649886</td>\n      <td>0.656258</td>\n      <td>0.662860</td>\n      <td>0.668727</td>\n      <td>0.670287</td>\n      <td>0.672145</td>\n      <td>0.674283</td>\n      <td>0.676692</td>\n      <td>0.679339</td>\n    </tr>\n    <tr>\n      <th>75%</th>\n      <td>230.000000</td>\n      <td>230.000000</td>\n      <td>230.000000</td>\n      <td>230.000000</td>\n      <td>0.435696</td>\n      <td>0.435956</td>\n      <td>0.436112</td>\n      <td>0.436326</td>\n      <td>0.436634</td>\n      <td>0.437142</td>\n      <td>...</td>\n      <td>0.760737</td>\n      <td>0.765462</td>\n      <td>0.770333</td>\n      <td>0.775263</td>\n      <td>0.779555</td>\n      <td>0.780846</td>\n      <td>0.782387</td>\n      <td>0.783979</td>\n      <td>0.785774</td>\n      <td>0.787759</td>\n    </tr>\n    <tr>\n      <th>max</th>\n      <td>300.000000</td>\n      <td>300.000000</td>\n      <td>300.000000</td>\n      <td>300.000000</td>\n      <td>0.748205</td>\n      <td>0.753103</td>\n      <td>0.749494</td>\n      <td>0.747389</td>\n      <td>0.748827</td>\n      <td>0.750392</td>\n      <td>...</td>\n      <td>0.935423</td>\n      <td>0.934867</td>\n      <td>0.938873</td>\n      <td>0.937817</td>\n      <td>0.942214</td>\n      <td>0.940367</td>\n      <td>0.940387</td>\n      <td>0.941548</td>\n      <td>0.942411</td>\n      <td>0.943648</td>\n    </tr>\n  </tbody>\n</table>\n<p>8 rows × 230 columns</p>\n</div>",
      "text/plain": "             layer_1        layer_2        layer_3        layer_4  \\\ncount  810000.000000  810000.000000  810000.000000  810000.000000   \nmean      155.000000     155.000000     155.000000     155.000000   \nstd        86.554468      86.554468      86.554468      86.554468   \nmin        10.000000      10.000000      10.000000      10.000000   \n25%        80.000000      80.000000      80.000000      80.000000   \n50%       155.000000     155.000000     155.000000     155.000000   \n75%       230.000000     230.000000     230.000000     230.000000   \nmax       300.000000     300.000000     300.000000     300.000000   \n\n                   0              1              2              3  \\\ncount  810000.000000  810000.000000  810000.000000  810000.000000   \nmean        0.292653       0.292893       0.293125       0.293363   \nstd         0.181642       0.181857       0.182055       0.182197   \nmin        -0.014902      -0.014798      -0.014897      -0.014709   \n25%         0.135139       0.135180       0.135258       0.135478   \n50%         0.286510       0.286874       0.287194       0.287553   \n75%         0.435696       0.435956       0.436112       0.436326   \nmax         0.748205       0.753103       0.749494       0.747389   \n\n                   4              5  ...            216            217  \\\ncount  810000.000000  810000.000000  ...  810000.000000  810000.000000   \nmean        0.293666       0.293994  ...       0.600336       0.606206   \nstd         0.182361       0.182529  ...       0.199727       0.198644   \nmin        -0.014903      -0.014662  ...      -0.011992      -0.008661   \n25%         0.135585       0.135705  ...       0.469345       0.476970   \n50%         0.287830       0.288151  ...       0.643685       0.649886   \n75%         0.436634       0.437142  ...       0.760737       0.765462   \nmax         0.748827       0.750392  ...       0.935423       0.934867   \n\n                 218            219            220            221  \\\ncount  810000.000000  810000.000000  810000.000000  810000.000000   \nmean        0.612238       0.618456       0.623942       0.625395   \nstd         0.197473       0.196177       0.195028       0.194909   \nmin        -0.011430      -0.009827      -0.007632      -0.007411   \n25%         0.484727       0.492739       0.500232       0.501650   \n50%         0.656258       0.662860       0.668727       0.670287   \n75%         0.770333       0.775263       0.779555       0.780846   \nmax         0.938873       0.937817       0.942214       0.940367   \n\n                 222            223            224            225  \ncount  810000.000000  810000.000000  810000.000000  810000.000000  \nmean        0.627100       0.628997       0.631166       0.633594  \nstd         0.194730       0.194493       0.194146       0.193725  \nmin        -0.007073      -0.007101      -0.005519      -0.006074  \n25%         0.503811       0.506252       0.509036       0.512067  \n50%         0.672145       0.674283       0.676692       0.679339  \n75%         0.782387       0.783979       0.785774       0.787759  \nmax         0.940387       0.941548       0.942411       0.943648  \n\n[8 rows x 230 columns]"
     },
     "execution_count": 10,
     "metadata": {},
     "output_type": "execute_result"
    }
   ],
   "source": [
    "tr.describe()"
   ]
  }
 ]
}